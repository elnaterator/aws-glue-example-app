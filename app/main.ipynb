{
 "cells": [
  {
   "cell_type": "code",
   "execution_count": null,
   "metadata": {},
   "outputs": [],
   "source": [
    "# Helpful commands for glue interactive sessions\n",
    "#%help\n",
    "#%stop_session\n",
    "#%status"
   ]
  },
  {
   "cell_type": "code",
   "execution_count": null,
   "metadata": {},
   "outputs": [],
   "source": [
    "# initialize glue interactive session\n",
    "# https://docs.aws.amazon.com/glue/latest/dg/interactive-sessions-magics.html\n",
    "%iam_role \"arn:aws:iam::123456789012:role/glue_etl_role_dev\"\n",
    "%session_id_prefix \"my-app\"\n",
    "%glue_version 4.0\n",
    "%number_of_workers 2\n",
    "%worker_type \"G.1X\"\n",
    "%idle_timeout 60"
   ]
  },
  {
   "cell_type": "code",
   "execution_count": null,
   "metadata": {},
   "outputs": [],
   "source": [
    "%%tags\n",
    "{\n",
    "    \"Application\": \"my-app\",\n",
    "    \"Environment\": \"dev\"\n",
    "}"
   ]
  },
  {
   "cell_type": "code",
   "execution_count": null,
   "metadata": {},
   "outputs": [],
   "source": [
    "# Initialize the glue job\n",
    "import sys\n",
    "from awsglue.transforms import *\n",
    "from awsglue.utils import getResolvedOptions\n",
    "from pyspark.context import SparkContext\n",
    "from awsglue.context import GlueContext\n",
    "from awsglue.job import Job\n",
    "from pyspark.sql import SparkSession\n",
    "from pyspark.sql.types import StructType, StructField, StringType, ArrayType\n",
    "from pyspark.sql.functions import year, month, dayofmonth, current_date, udf\n",
    "from awsglue.dynamicframe import DynamicFrame\n",
    "from pyspark.sql import SparkSession\n",
    "\n",
    "# Create a GlueContext\n",
    "sc = SparkContext.getOrCreate()\n",
    "glueContext = GlueContext(sc)\n",
    "\n",
    "# Initialize the job\n",
    "job = Job(glueContext)\n",
    "args = {'JOB_NAME': 'my-glue-example-job-dev'}\n",
    "job.init(args['JOB_NAME'], args)\n",
    "\n",
    "# Get the spark session\n",
    "spark = glueContext.spark_session"
   ]
  },
  {
   "cell_type": "code",
   "execution_count": null,
   "metadata": {},
   "outputs": [],
   "source": [
    "# read file from S3 bucket\n",
    "datasource0 = glueContext.create_dynamic_frame.from_options(\n",
    "    connection_type=\"s3\", \n",
    "    connection_options={\n",
    "        \"paths\": [\"s3://elnaterator-aws-glue-example-app-dev/users.csv\"]\n",
    "    }, \n",
    "    format=\"csv\", \n",
    "    format_options={\n",
    "        \"withHeader\": True, \n",
    "        \"separator\": \",\"\n",
    "    }\n",
    ")\n",
    "\n",
    "datasource0.show()"
   ]
  },
  {
   "cell_type": "code",
   "execution_count": null,
   "metadata": {},
   "outputs": [],
   "source": [
    "# Create a fullname column\n",
    "def create_fullname(firstname, lastname):\n",
    "    return firstname + \" \" + lastname\n",
    "\n",
    "create_fullname_udf = udf(create_fullname, StringType())\n",
    "\n",
    "# Convert to a spark dataframe\n",
    "df = datasource0.toDF()\n",
    "\n",
    "# Add a fullname column\n",
    "df = df.withColumn(\"fullname\", create_fullname_udf(df.firstname, df.lastname))\n",
    "\n",
    "# Show the dataframe\n",
    "df.show()"
   ]
  },
  {
   "cell_type": "code",
   "execution_count": null,
   "metadata": {},
   "outputs": [],
   "source": [
    "# Convert back to a dynamic frame\n",
    "datasource1 = DynamicFrame.fromDF(df, glueContext, \"datasource1\")\n",
    "\n",
    "# Write the dynamic frame to S3\n",
    "glueContext.write_dynamic_frame.from_options(\n",
    "    frame=datasource1, \n",
    "    connection_type=\"s3\", \n",
    "    connection_options={\n",
    "        \"path\": \"s3://elnaterator-aws-glue-example-app-dev/users-with-fullname.csv\"\n",
    "    }, \n",
    "    format=\"csv\", \n",
    "    format_options={\n",
    "        \"withHeader\": True, \n",
    "        \"separator\": \",\"\n",
    "    }\n",
    ")"
   ]
  }
 ],
 "metadata": {
  "language_info": {
   "name": "python"
  }
 },
 "nbformat": 4,
 "nbformat_minor": 2
}
