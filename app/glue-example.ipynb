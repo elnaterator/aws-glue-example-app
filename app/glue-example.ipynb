{
 "cells": [
  {
   "cell_type": "code",
   "execution_count": 1,
   "id": "9a38d3e8-8f9c-4a4a-bc66-dfac1f604a00",
   "metadata": {},
   "outputs": [],
   "source": [
    "# AWS Glue Example App"
   ]
  },
  {
   "cell_type": "code",
   "execution_count": 4,
   "id": "93358f82-bb84-48c9-bc98-94633943f857",
   "metadata": {},
   "outputs": [],
   "source": [
    "import boto3"
   ]
  }
 ],
 "metadata": {
  "kernelspec": {
   "display_name": "Python 3 (ipykernel)",
   "language": "python",
   "name": "python3"
  },
  "language_info": {
   "codemirror_mode": {
    "name": "ipython",
    "version": 3
   },
   "file_extension": ".py",
   "mimetype": "text/x-python",
   "name": "python",
   "nbconvert_exporter": "python",
   "pygments_lexer": "ipython3",
   "version": "3.10.2"
  }
 },
 "nbformat": 4,
 "nbformat_minor": 5
}
